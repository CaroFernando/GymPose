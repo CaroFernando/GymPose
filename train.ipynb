{
 "cells": [
  {
   "cell_type": "code",
   "execution_count": null,
   "metadata": {},
   "outputs": [],
   "source": [
    "import numpy as np\n",
    "import pandas as pd\n",
    "from dataclasses import dataclass\n",
    "from dgl.dataloading import GraphDataLoader\n",
    "import pytorch_lightning as pl\n",
    "\n",
    "from Dataset.GraphDataset import GymPoseDataset\n",
    "from Dataset.Augmentation import augment_points\n",
    "\n",
    "from Model.GraphModel import ALIGNN\n",
    "from Model.Config import BaseConfig\n",
    "\n",
    "from sklearn.metrics import f1_score\n",
    "from sklearn.model_selection import train_test_split\n",
    "# tqdm \n",
    "from tqdm import tqdm   \n",
    "import os\n",
    "import pickle\n",
    "import torch\n",
    "from pytorch_lightning.callbacks import ModelCheckpoint\n",
    "\n",
    "from sklearn.utils import resample"
   ]
  },
  {
   "cell_type": "code",
   "execution_count": null,
   "metadata": {},
   "outputs": [],
   "source": [
    "df = pd.read_csv('data/ohp/annotations_ohp.csv')\n",
    "points = np.load('data/ohp/points_ohp_3d.npz')\n",
    "df_t =  df[df['split'] == 'train']\n",
    "train_ws = (df_t['elbow_error'].value_counts() / len(df_t)) * 100\n",
    "print(train_ws)\n",
    "train_ws = (df_t['knee_error'].value_counts() / len(df_t)) * 100\n",
    "print(train_ws)\n",
    "#for key in points:\n",
    "#    print(key, points[key].shape)"
   ]
  },
  {
   "cell_type": "code",
   "execution_count": null,
   "metadata": {},
   "outputs": [],
   "source": [
    "train_df = df[df['split'] == 'train']\n",
    "val_df = df[df['split'] == 'val']\n",
    "test_df = df[df['split'] == 'test']\n",
    "print(len(train_df))"
   ]
  },
  {
   "cell_type": "code",
   "execution_count": null,
   "metadata": {},
   "outputs": [],
   "source": [
    "train_ws = (train_df['knee_error'].value_counts() / len(train_df)).values\n",
    "train_ws = torch.tensor(train_ws, dtype=torch.float32)\n",
    "train_ws = 1 - train_ws\n",
    "print(train_ws)\n",
    "type_error = 1"
   ]
  },
  {
   "cell_type": "code",
   "execution_count": null,
   "metadata": {},
   "outputs": [],
   "source": [
    "train_dataset = GymPoseDataset(train_df, points, \"Train\", \"preprocessed_dataset\")\n",
    "val_dataset = GymPoseDataset(val_df, points, \"Val\", \"preprocessed_dataset\")\n",
    "test_dataset = GymPoseDataset(test_df, points, \"Test\", \"preprocessed_dataset\")"
   ]
  },
  {
   "cell_type": "code",
   "execution_count": null,
   "metadata": {},
   "outputs": [],
   "source": [
    "model = ALIGNN(BaseConfig, train_ws, type_error)\n",
    "#model = ALIGNN.load_from_checkpoint(path, config=BaseConfig, weights=train_ws, type_error=type_error)"
   ]
  },
  {
   "cell_type": "code",
   "execution_count": null,
   "metadata": {},
   "outputs": [],
   "source": [
    "train_loader = GraphDataLoader(train_dataset, batch_size=16, shuffle=True, num_workers=31, persistent_workers=True)\n",
    "val_loader = GraphDataLoader(val_dataset, batch_size=16, shuffle=False, num_workers=31, persistent_workers=True)\n",
    "test_loader = GraphDataLoader(test_dataset, batch_size=16, shuffle=False, num_workers=31)"
   ]
  },
  {
   "cell_type": "code",
   "execution_count": null,
   "metadata": {},
   "outputs": [],
   "source": [
    "checkpoint_callback = ModelCheckpoint(\n",
    "    monitor='val_f1',  \n",
    "    mode='max',           \n",
    "    save_top_k=3,  \n",
    "    filename='model-{epoch:02d}-{val_f1:.4f}',      \n",
    ")"
   ]
  },
  {
   "cell_type": "code",
   "execution_count": null,
   "metadata": {},
   "outputs": [],
   "source": [
    "trainer = pl.Trainer(callbacks=[checkpoint_callback], accelerator='gpu', max_epochs=200)"
   ]
  },
  {
   "cell_type": "code",
   "execution_count": null,
   "metadata": {},
   "outputs": [],
   "source": [
    "trainer.fit(model, train_loader, val_loader)"
   ]
  },
  {
   "cell_type": "code",
   "execution_count": null,
   "metadata": {},
   "outputs": [],
   "source": [
    "best_model_paths = checkpoint_callback.best_k_models"
   ]
  },
  {
   "cell_type": "code",
   "execution_count": null,
   "metadata": {},
   "outputs": [],
   "source": [
    "for model_path in best_model_paths:\n",
    "    print(model_path)\n",
    "    model = ALIGNN.load_from_checkpoint(model_path, config=BaseConfig, weights=train_ws, type_error=type_error)\n",
    "    trainer.test(model, test_loader)"
   ]
  }
 ],
 "metadata": {
  "kernelspec": {
   "display_name": "p39_t2",
   "language": "python",
   "name": "python3"
  },
  "language_info": {
   "codemirror_mode": {
    "name": "ipython",
    "version": 3
   },
   "file_extension": ".py",
   "mimetype": "text/x-python",
   "name": "python",
   "nbconvert_exporter": "python",
   "pygments_lexer": "ipython3",
   "version": "3.10.13"
  }
 },
 "nbformat": 4,
 "nbformat_minor": 2
}
